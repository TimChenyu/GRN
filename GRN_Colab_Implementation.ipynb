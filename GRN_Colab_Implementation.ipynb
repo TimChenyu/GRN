{
  "nbformat": 4,
  "nbformat_minor": 0,
  "metadata": {
    "colab": {
      "name": "GRN_Colab_Implementation.ipynb",
      "provenance": [],
      "collapsed_sections": []
    },
    "kernelspec": {
      "name": "python3",
      "display_name": "Python 3"
    },
    "language_info": {
      "name": "python"
    }
  },
  "cells": [
    {
      "cell_type": "code",
      "execution_count": null,
      "metadata": {
        "id": "rDfH4pQqiEoW"
      },
      "outputs": [],
      "source": [
        "import random\n",
        "import numpy as np\n",
        "import pandas as pd\n",
        "import networkx as nx\n",
        "import matplotlib.pyplot as plt\n",
        "from itertools import combinations, groupby\n",
        "from networkx import is_connected, connected_components"
      ]
    },
    {
      "cell_type": "code",
      "source": [
        "\"\"\"\n",
        "定义一个玻尔兹曼机基因调控网络的类\n",
        "Define a Boltzmann Gene Regulatory Network Class\n",
        "\n",
        "待开发\n",
        "  - 定义不同的基因树，以及不同搭造基因树的方法\n",
        "    - 现有方法：(Generate Gene Tree)\n",
        "    - 从一个连通图删除边缘直到形成一个树(在保证每个节点连接性的条件下无边缘可删除)\n",
        "    - 搭建有向树\n",
        "    - 不同的更新基因状态策略\n",
        "\n",
        "To be Implemented\n",
        "  - Different ways of generating a GRN\n",
        "    - Current Method (Generate Gene Tree Function)\n",
        "    - While ensuring connectivity, delete edges until no more \n",
        "        edges can be deleted\n",
        "    - Define a directed Graph\n",
        "    - Different update rules\n",
        "\"\"\"\n",
        "class BoltzmannGRN():\n",
        "  def __init__(self, size, on_p):\n",
        "    \"\"\"\n",
        "    模型初始化\n",
        "    1. 定义模型大小（基因数量）\n",
        "    2. 定义基因关系矩阵\n",
        "    3. 随概率计算基因的开关状态\n",
        "\n",
        "    Model Initialization\n",
        "    1. Define the model size (number of Genes)\n",
        "    2. Define Gene Relation Matrix (Weight of Edges)\n",
        "    3. Define the state of the gene based on probability \n",
        "    \"\"\"\n",
        "    self.size = size\n",
        "    self.graph = self.generate_Gene_tree(size)\n",
        "    self.matrix = self.make_wmatrix(self.graph, self.size)\n",
        "    for node in self.graph.nodes:\n",
        "      chance = random.random()\n",
        "      if chance > on_p:\n",
        "        self.graph.nodes[node][\"state\"] = 1\n",
        "      else:\n",
        "        self.graph.nodes[node][\"state\"] = 0\n",
        "    \n",
        "  def generate_Gene_tree(self, n):\n",
        "    \"\"\"\n",
        "    1. 定义一个有n个节点，0边缘的图\n",
        "    2. 第m个节点有相同概率连接到任意一个(m-1)的节点\n",
        "\n",
        "    1. Define a graph of n nodes, w/o edges\n",
        "    2. node m will have equal probablity to connect to any node with m-1\n",
        "    \"\"\"\n",
        "    G=nx.DiGraph()\n",
        "    G.add_node(0)\n",
        "    for i in range(1, n):\n",
        "      num = G.number_of_nodes()\n",
        "      #print(num)\n",
        "      G.add_node(i)\n",
        "      toConnect = random.randint(0, num-1)\n",
        "      G.add_nodes_from([toConnect, i])\n",
        "      if random.random() >= 0.5:\n",
        "        G.add_nodes_from([toConnect, i])\n",
        "      #G.add_edge(toConnect, i)\n",
        "    return G\n",
        "\n",
        "\n",
        "  def make_wmatrix(self, G, size):\n",
        "    \"\"\"\n",
        "    定义一个定义基因关系矩阵，大小为(n*n) n是基因数量\n",
        "\n",
        "    Make a weight matrix for the graph of size n*n n being the \n",
        "      number of genes in the network\n",
        "    \"\"\"\n",
        "    nums = nx.get_node_attributes(G, \"number\")\n",
        "    #print(nums)\n",
        "    wmatrix = np.zeros((size, size))\n",
        "    for node in G.nodes():\n",
        "      ycount = 0\n",
        "      for neighbour in G.neighbors(node):\n",
        "        weight = 0.11#random.random()\n",
        "        wmatrix[node][neighbour] = weight\n",
        "    return wmatrix\n",
        "  \n",
        "  def getHit(self, G, gene_i):\n",
        "    \"\"\"\n",
        "    计算基因在t时间点的H值\n",
        "    i - 基因编号\n",
        "    t - 时间点\n",
        "\n",
        "    Calculate the H value for gene i at time t\n",
        "    i - Gene number\n",
        "    t - timestep\n",
        "    \"\"\"\n",
        "    hit = 0\n",
        "    for neighbour in G.neighbors(gene_i):\n",
        "      phit = self.matrix[gene_i][neighbour] * self.state(G, neighbour)\n",
        "      hit += phit\n",
        "    return hit\n",
        "  \n",
        "  def probability(self, G, gene, hit):\n",
        "    \"\"\"\n",
        "    计算基因开关状态概率\n",
        "    gene - 基因编号\n",
        "    hit - 计算出来的H值(H_{i,t})\n",
        "    \n",
        "    Get the probability of a specific gene being on\n",
        "    gene - gene number \n",
        "    hit - the calculated H value (H_{i,t})\n",
        "    \"\"\"\n",
        "    p = (1/(1+2.718281828459045**(self.getHit(G, gene)*(-1))))\n",
        "    return p\n",
        "  \n",
        "  def change_state(self, G): #Previously Named update\n",
        "    \"\"\"\n",
        "    更新基因状态\n",
        "    G - 基因图\n",
        "\n",
        "    Update Gene state\n",
        "    G - Graph\n",
        "    \"\"\"\n",
        "    for node in G:\n",
        "      hit = self.getHit(G, node)\n",
        "      p = self.probability(G, node, hit)\n",
        "      chance = random.random()\n",
        "      if chance <= p:\n",
        "        G.nodes[node][\"state\"] = 1\n",
        "      else:\n",
        "        G.nodes[node][\"state\"] = 0\n",
        "  \n",
        "  def state(G, node):\n",
        "    state = G.nodes[node][\"state\"]\n",
        "    return state\n",
        "  \n",
        "  def update(self, size, G, timesteps):\n",
        "    \"\"\"\n",
        "    更新timesteps次模型\n",
        "    size - 模型大小\n",
        "    G - 模型图\n",
        "    timesteps - 更新模型次数\n",
        "\n",
        "    Update the model 'timesteps' times\n",
        "    size - model size\n",
        "    G - Model Graph\n",
        "    \"\"\"\n",
        "    time = []\n",
        "    list_size = []\n",
        "    list_states = []\n",
        "    listi = [0] * size\n",
        "    for t in range(0, timesteps):\n",
        "      time.append(t)\n",
        "      states = []\n",
        "      self.change_state(G)\n",
        "      for node in G.nodes:\n",
        "        s = G.nodes[node][\"state\"]\n",
        "        states.append(s)\n",
        "        sums = sum(states)\n",
        "        sum_index = sums/size\n",
        "      list_size.append(sum_index)\n",
        "      list_states.append(states)\n",
        "\n",
        "    df = pd.DataFrame(list_states, columns = listi)\n",
        "    return time, list_size\n",
        "    \n",
        "    #s\n",
        "  \n",
        "  def show_plot(self, time, state_mean):\n",
        "    \"\"\"\n",
        "    画出模型平均值    \n",
        "\n",
        "    Plot the mean state of the model\n",
        "    \"\"\"\n",
        "    plt.xlim([0, len(time)])\n",
        "    plt.ylim([0, 1])\n",
        "    plt.rcParams[\"figure.figsize\"] = [17.50, 3.50]\n",
        "    plt.plot(time, state_mean, 'r*')\n",
        "    plt.show()\n",
        "\n",
        "    "
      ],
      "metadata": {
        "id": "bfGAmyZUjeql"
      },
      "execution_count": null,
      "outputs": []
    },
    {
      "cell_type": "code",
      "source": [
        "size = 100\n",
        "gene_start_probability = 1"
      ],
      "metadata": {
        "id": "0BUI55Z01J0W"
      },
      "execution_count": null,
      "outputs": []
    },
    {
      "cell_type": "code",
      "source": [
        "BoltzmannModel = BoltzmannGRN(size, gene_start_probability)\n",
        "BoltzmannGraph = BoltzmannModel.graph\n",
        "time, list_size = BoltzmannModel.update(size, BoltzmannGraph, 100)\n",
        "BoltzmannModel.show_plot(time, list_size)"
      ],
      "metadata": {
        "colab": {
          "base_uri": "https://localhost:8080/",
          "height": 242
        },
        "id": "hYRfHsKxnf7-",
        "outputId": "6bb61469-47bd-45cf-febd-b3b39684a76d"
      },
      "execution_count": null,
      "outputs": [
        {
          "output_type": "display_data",
          "data": {
            "text/plain": [
              "<Figure size 1260x252 with 1 Axes>"
            ],
            "image/png": "[encoded data removed]"
          },
          "metadata": {
            "needs_background": "light"
          }
        }
      ]
    },
    {
      "cell_type": "markdown",
      "source": [
        "**Archieved Functions**"
      ],
      "metadata": {
        "id": "xgbaGOZf3IHu"
      }
    },
    {
      "cell_type": "code",
      "source": [
        "  def add_nodes(self, G, parent, num_to_add):\n",
        "    num_Nodes = G.number_of_nodes()\n",
        "    nodes_to_add = []\n",
        "    for n in range(1, 3):\n",
        "      nodes_to_add.append(num_Nodes+n)\n",
        "    for node in nodes_to_add:\n",
        "      G.add_edge(parent, node)\n",
        "  \n",
        "    def group_duplicate_index(df):\n",
        "      a = df.values\n",
        "      sidx = np.lexsort(a.T)\n",
        "      b = a[sidx]\n",
        "\n",
        "      m = np.concatenate(([False], (b[1:] == b[:-1]).all(1), [False] ))\n",
        "      idx = np.flatnonzero(m[1:] != m[:-1])\n",
        "      I = df.index[sidx].tolist()\n",
        "      return [I[i:j] for i,j in zip(idx[::2],idx[1::2]+1)]"
      ],
      "metadata": {
        "id": "iYtAcARMwKNw"
      },
      "execution_count": null,
      "outputs": []
    }
  ]
}